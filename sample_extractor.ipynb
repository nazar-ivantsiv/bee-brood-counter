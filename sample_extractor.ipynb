{
 "cells": [
  {
   "cell_type": "code",
   "execution_count": 1,
   "metadata": {
    "collapsed": true
   },
   "outputs": [],
   "source": [
    "import os\n",
    "\n",
    "import cv2\n",
    "import numpy as np\n",
    "from bee_frame import BeeFrame"
   ]
  },
  {
   "cell_type": "code",
   "execution_count": 2,
   "metadata": {
    "collapsed": false
   },
   "outputs": [],
   "source": [
    "VISUAL = True\n",
    "counter = 1\n",
    "file_list = ['003.png',\n",
    "#             '200.png',\n",
    "#             '006.png',\n",
    "#             '007.png',\n",
    "#             '008.png',\n",
    "#             '009.png',\n",
    "#             '015.png',\n",
    "#             '022.png',\n",
    "#             '027.png',\n",
    "#             '031.png',\n",
    "#             '034.png',\n",
    "#             '037.png',\n",
    "#             '038.png',\n",
    "#             '042.png',\n",
    "#             '042.png',\n",
    "#             '044.png',\n",
    "#             '050.png',\n",
    "#             '065.png',\n",
    "#            '067.png',\n",
    "#            '071.png',\n",
    "#            '074.png',\n",
    "#           '108.png',\n",
    "#            '120.png',\n",
    "            ]\n",
    "path = '/home/chip/Dropbox/LITS/ML-003/dataset/representative_dataset/'\n",
    "#file_list = os.listdir(path)"
   ]
  },
  {
   "cell_type": "code",
   "execution_count": 3,
   "metadata": {
    "collapsed": false
   },
   "outputs": [
    {
     "name": "stdout",
     "output_type": "stream",
     "text": [
      "top left corner x:1912 y:297\n",
      "cell size: 66x71\n",
      "top left corner x:1442 y:200\n",
      "cell size: 66x66\n",
      "top left corner x:1073 y:99\n",
      "cell size: 61x55\n",
      "top left corner x:1964 y:325\n",
      "cell size: 66x73\n",
      "top left corner x:1202 y:226\n",
      "cell size: 57x54\n",
      "top left corner x:1224 y:222\n",
      "cell size: 61x61\n",
      "top left corner x:365 y:60\n",
      "cell size: 62x56\n",
      "top left corner x:1396 y:31\n",
      "cell size: 54x57\n",
      "top left corner x:1527 y:294\n",
      "cell size: 62x64\n",
      "top left corner x:1364 y:631\n",
      "cell size: 59x57\n",
      "top left corner x:1535 y:348\n",
      "cell size: 61x62\n",
      "top left corner x:1079 y:314\n",
      "cell size: 60x55\n",
      "top left corner x:1273 y:485\n",
      "cell size: 56x52\n",
      "top left corner x:1441 y:419\n",
      "cell size: 61x60\n"
     ]
    }
   ],
   "source": [
    "# Split image into 64px x 64px frames and save to files with sequence numbering (i.e. extract samples)\n",
    "# Pre-processed images path\n",
    "frame = BeeFrame()\n",
    "\n",
    "for filename in file_list:\n",
    "    frame.load_image(path, filename)\n",
    "    # Normalize histogram and smooth img.\n",
    "    frame.image.hitogram_normalization()\n",
    "    frame.image.blur(kernel=(3,3))\n",
    "    frame.get_cell_size()\n",
    "    \n",
    "    windows_gen = frame.sliding_window(use_pattern=True)\n",
    "    _, _, window = windows_gen.next()\n",
    "\n",
    "    # Extract all samples from image and save to /features_<img name> folder\n",
    "    features_path = './dataset/features_{}/'.format(filename)\n",
    "    if not os.path.exists(features_path):\n",
    "        os.makedirs(features_path)\n",
    "    if not os.listdir(features_path):\n",
    "        while True:\n",
    "            if VISUAL:\n",
    "                cv2.imshow('preview', window)\n",
    "            cv2.imwrite(os.path.join(features_path, '{}.png'.format(counter)), window)\n",
    "            counter += 1\n",
    "            try:\n",
    "                _, _, window = windows_gen.next()    \n",
    "            except StopIteration:\n",
    "                break\n",
    "            key_pressed = 0xFF & cv2.waitKey(1)\n",
    "            if key_pressed == ord('q'):\n",
    "                break\n",
    "            elif key_pressed == ord('n'):\n",
    "                pass\n",
    "        cv2.destroyAllWindows()"
   ]
  },
  {
   "cell_type": "code",
   "execution_count": null,
   "metadata": {
    "collapsed": true
   },
   "outputs": [],
   "source": []
  }
 ],
 "metadata": {
  "kernelspec": {
   "display_name": "Python 2",
   "language": "python",
   "name": "python2"
  },
  "language_info": {
   "codemirror_mode": {
    "name": "ipython",
    "version": 2
   },
   "file_extension": ".py",
   "mimetype": "text/x-python",
   "name": "python",
   "nbconvert_exporter": "python",
   "pygments_lexer": "ipython2",
   "version": "2.7.6"
  }
 },
 "nbformat": 4,
 "nbformat_minor": 0
}
