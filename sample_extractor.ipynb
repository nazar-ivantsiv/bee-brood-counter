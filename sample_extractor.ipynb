{
 "cells": [
  {
   "cell_type": "code",
   "execution_count": 3,
   "metadata": {
    "collapsed": true
   },
   "outputs": [],
   "source": [
    "import os\n",
    "\n",
    "import cv2\n",
    "import numpy as np\n",
    "\n",
    "### Image processing routines ###\n",
    "\n",
    "def sliding_window(image, stepSize, windowSize):\n",
    "    # slide a window across the image\n",
    "    for y in xrange(0, image.shape[0], stepSize):\n",
    "        for x in xrange(0, image.shape[1], stepSize):\n",
    "            # yield the current window\n",
    "            yield (x, y, image[y:y + windowSize[1], x:x + windowSize[0]])"
   ]
  },
  {
   "cell_type": "code",
   "execution_count": 4,
   "metadata": {
    "collapsed": false
   },
   "outputs": [],
   "source": [
    "# Split image into 60px x 60px frames and save to files with sequence numbering (i.e. extract samples)\n",
    "# Pre-processed images path\n",
    "path = '/home/chip/Dropbox/LITS/ML-003/dataset/processed_dataset/prespective_correction/'\n",
    "filename = '003.png'\n",
    "img_path = os.path.join(path, filename)\n",
    "# Read image from path\n",
    "img = cv2.imread(img_path, 1)\n",
    "img_height, img_width = img.shape[:2]\n",
    "# Create sample windows generator\n",
    "WIN_SIZE = 60\n",
    "STEP = 30\n",
    "windows_gen = sliding_window(img, stepSize = STEP, windowSize=(WIN_SIZE, WIN_SIZE))\n",
    "x, y, window = windows_gen.next()\n",
    "counter = 0\n",
    "# Extract all samples from image and save to /features_<img name> folder\n",
    "features_path = './dataset/features_{}/'.format(filename)\n",
    "if not os.path.exists(features_path):\n",
    "    os.makedirs(features_path)\n",
    "if not os.listdir(features_path):\n",
    "    while True:    \n",
    "        cv2.imshow('preview', window)\n",
    "        cv2.imwrite(os.path.join(features_path, '{}.png'.format(counter)), window)\n",
    "        counter += 1\n",
    "        _, _, window = windows_gen.next()    \n",
    "        key_pressed = 0xFF & cv2.waitKey(1)\n",
    "        if key_pressed == ord('q'):\n",
    "            break\n",
    "        elif key_pressed == ord('n'):\n",
    "            pass\n",
    "    cv2.destroyAllWindows()"
   ]
  },
  {
   "cell_type": "code",
   "execution_count": null,
   "metadata": {
    "collapsed": true
   },
   "outputs": [],
   "source": []
  }
 ],
 "metadata": {
  "kernelspec": {
   "display_name": "Python 2",
   "language": "python",
   "name": "python2"
  },
  "language_info": {
   "codemirror_mode": {
    "name": "ipython",
    "version": 2
   },
   "file_extension": ".py",
   "mimetype": "text/x-python",
   "name": "python",
   "nbconvert_exporter": "python",
   "pygments_lexer": "ipython2",
   "version": "2.7.6"
  }
 },
 "nbformat": 4,
 "nbformat_minor": 0
}
