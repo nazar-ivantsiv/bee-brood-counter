{
 "cells": [
  {
   "cell_type": "code",
   "execution_count": 4,
   "metadata": {
    "collapsed": true
   },
   "outputs": [],
   "source": [
    "import os\n",
    "\n",
    "import cv2\n",
    "import numpy as np\n",
    "\n",
    "### Image processing routines ###\n",
    "\n",
    "def sliding_window(image, stepSize, windowSize):\n",
    "    # slide a window across the image\n",
    "    for y in xrange(0, image.shape[0], stepSize):\n",
    "        for x in xrange(0, image.shape[1], stepSize):\n",
    "            # yield the current window\n",
    "            yield (x, y, image[y:y + windowSize[1], x:x + windowSize[0]])"
   ]
  },
  {
   "cell_type": "code",
   "execution_count": 5,
   "metadata": {
    "collapsed": true
   },
   "outputs": [],
   "source": [
    "VISUAL = True\n",
    "counter = 6041\n",
    "file_list = ['001.png',\n",
    "             '004.png',\n",
    "             '006.png',\n",
    "             '007.png',\n",
    "             '008.png',\n",
    "             '009.png',\n",
    "             '015.png',\n",
    "             '022.png',\n",
    "             '027.png',\n",
    "             '031.png',\n",
    "             '034.png',\n",
    "             '037.png',\n",
    "             '038.png',\n",
    "             '042.png',\n",
    "             '042.png',\n",
    "             '044.png',\n",
    "             '050.png',\n",
    "             '065.png',\n",
    "             '067.png',\n",
    "             '071.png',\n",
    "             '074.png',\n",
    "             '108.png',\n",
    "             '120.png',\n",
    "            ]\n",
    "path = '/home/chip/Dropbox/LITS/ML-003/dataset/processed_dataset/prespective_correction/'"
   ]
  },
  {
   "cell_type": "code",
   "execution_count": 6,
   "metadata": {
    "collapsed": false
   },
   "outputs": [],
   "source": [
    "# Split image into 64px x 64px frames and save to files with sequence numbering (i.e. extract samples)\n",
    "# Pre-processed images path\n",
    "\n",
    "for filename in file_list:\n",
    "    img_path = os.path.join(path, filename)\n",
    "    # Read image from path\n",
    "    img = cv2.imread(img_path, 1)\n",
    "    img_height, img_width = img.shape[:2]\n",
    "    # Create sample windows generator\n",
    "    WIN_SIZE = 64\n",
    "    STEP = 32\n",
    "    windows_gen = sliding_window(img, stepSize = STEP, windowSize=(WIN_SIZE, WIN_SIZE))\n",
    "    x, y, window = windows_gen.next()\n",
    "\n",
    "    # Extract all samples from image and save to /features_<img name> folder\n",
    "    features_path = './dataset/features_{}/'.format(filename)\n",
    "    if not os.path.exists(features_path):\n",
    "        os.makedirs(features_path)\n",
    "    if not os.listdir(features_path):\n",
    "        while True:\n",
    "            if VISUAL:\n",
    "                cv2.imshow('preview', window)\n",
    "            cv2.imwrite(os.path.join(features_path, '{}.png'.format(counter)), window)\n",
    "            counter += 1\n",
    "            try:\n",
    "                _, _, window = windows_gen.next()    \n",
    "            except StopIteration:\n",
    "                break\n",
    "            key_pressed = 0xFF & cv2.waitKey(1)\n",
    "            if key_pressed == ord('q'):\n",
    "                break\n",
    "            elif key_pressed == ord('n'):\n",
    "                pass\n",
    "        cv2.destroyAllWindows()"
   ]
  },
  {
   "cell_type": "code",
   "execution_count": null,
   "metadata": {
    "collapsed": true
   },
   "outputs": [],
   "source": []
  }
 ],
 "metadata": {
  "kernelspec": {
   "display_name": "Python 2",
   "language": "python",
   "name": "python2"
  },
  "language_info": {
   "codemirror_mode": {
    "name": "ipython",
    "version": 2
   },
   "file_extension": ".py",
   "mimetype": "text/x-python",
   "name": "python",
   "nbconvert_exporter": "python",
   "pygments_lexer": "ipython2",
   "version": "2.7.6"
  }
 },
 "nbformat": 4,
 "nbformat_minor": 0
}
